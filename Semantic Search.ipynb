{
 "cells": [
  {
   "cell_type": "code",
   "execution_count": 1,
   "id": "b63a78b6",
   "metadata": {},
   "outputs": [],
   "source": [
    "import pandas as pd\n",
    "import numpy as np\n",
    "import json\n",
    "import os\n",
    "import uuid\n",
    "\n",
    "from sentence_transformers import SentenceTransformer, util\n",
    "model = SentenceTransformer('all-MiniLM-L6-v2')\n",
    "\n",
    "from tqdm.auto import tqdm\n",
    "tqdm.pandas()"
   ]
  },
  {
   "cell_type": "code",
   "execution_count": 2,
   "id": "fe513261",
   "metadata": {},
   "outputs": [
    {
     "data": {
      "text/plain": [
       "(19001, 24)"
      ]
     },
     "execution_count": 2,
     "metadata": {},
     "output_type": "execute_result"
    }
   ],
   "source": [
    "df  = pd.read_csv(\"data job posts.csv\")\n",
    "df.shape"
   ]
  },
  {
   "cell_type": "code",
   "execution_count": 3,
   "id": "b81c762d",
   "metadata": {},
   "outputs": [
    {
     "data": {
      "text/html": [
       "<div>\n",
       "<style scoped>\n",
       "    .dataframe tbody tr th:only-of-type {\n",
       "        vertical-align: middle;\n",
       "    }\n",
       "\n",
       "    .dataframe tbody tr th {\n",
       "        vertical-align: top;\n",
       "    }\n",
       "\n",
       "    .dataframe thead th {\n",
       "        text-align: right;\n",
       "    }\n",
       "</style>\n",
       "<table border=\"1\" class=\"dataframe\">\n",
       "  <thead>\n",
       "    <tr style=\"text-align: right;\">\n",
       "      <th></th>\n",
       "      <th>jobpost</th>\n",
       "      <th>date</th>\n",
       "      <th>Title</th>\n",
       "      <th>Company</th>\n",
       "      <th>AnnouncementCode</th>\n",
       "      <th>Term</th>\n",
       "      <th>Eligibility</th>\n",
       "      <th>Audience</th>\n",
       "      <th>StartDate</th>\n",
       "      <th>Duration</th>\n",
       "      <th>...</th>\n",
       "      <th>Salary</th>\n",
       "      <th>ApplicationP</th>\n",
       "      <th>OpeningDate</th>\n",
       "      <th>Deadline</th>\n",
       "      <th>Notes</th>\n",
       "      <th>AboutC</th>\n",
       "      <th>Attach</th>\n",
       "      <th>Year</th>\n",
       "      <th>Month</th>\n",
       "      <th>IT</th>\n",
       "    </tr>\n",
       "  </thead>\n",
       "  <tbody>\n",
       "    <tr>\n",
       "      <th>0</th>\n",
       "      <td>AMERIA Investment Consulting Company\\r\\nJOB TI...</td>\n",
       "      <td>Jan 5, 2004</td>\n",
       "      <td>Chief Financial Officer</td>\n",
       "      <td>AMERIA Investment Consulting Company</td>\n",
       "      <td>NaN</td>\n",
       "      <td>NaN</td>\n",
       "      <td>NaN</td>\n",
       "      <td>NaN</td>\n",
       "      <td>NaN</td>\n",
       "      <td>NaN</td>\n",
       "      <td>...</td>\n",
       "      <td>NaN</td>\n",
       "      <td>To apply for this position, please submit a\\r\\...</td>\n",
       "      <td>NaN</td>\n",
       "      <td>26 January 2004</td>\n",
       "      <td>NaN</td>\n",
       "      <td>NaN</td>\n",
       "      <td>NaN</td>\n",
       "      <td>2004</td>\n",
       "      <td>1</td>\n",
       "      <td>False</td>\n",
       "    </tr>\n",
       "  </tbody>\n",
       "</table>\n",
       "<p>1 rows × 24 columns</p>\n",
       "</div>"
      ],
      "text/plain": [
       "                                             jobpost         date  \\\n",
       "0  AMERIA Investment Consulting Company\\r\\nJOB TI...  Jan 5, 2004   \n",
       "\n",
       "                     Title                               Company  \\\n",
       "0  Chief Financial Officer  AMERIA Investment Consulting Company   \n",
       "\n",
       "  AnnouncementCode Term Eligibility Audience StartDate Duration  ... Salary  \\\n",
       "0              NaN  NaN         NaN      NaN       NaN      NaN  ...    NaN   \n",
       "\n",
       "                                        ApplicationP OpeningDate  \\\n",
       "0  To apply for this position, please submit a\\r\\...         NaN   \n",
       "\n",
       "          Deadline Notes AboutC Attach  Year Month     IT  \n",
       "0  26 January 2004   NaN    NaN    NaN  2004     1  False  \n",
       "\n",
       "[1 rows x 24 columns]"
      ]
     },
     "execution_count": 3,
     "metadata": {},
     "output_type": "execute_result"
    }
   ],
   "source": [
    "df.head(1)"
   ]
  },
  {
   "cell_type": "code",
   "execution_count": 4,
   "id": "ce418a82",
   "metadata": {},
   "outputs": [],
   "source": [
    "import numpy as np\n",
    "from sklearn.metrics.pairwise import cosine_similarity\n",
    "from sentence_transformers import SentenceTransformer\n",
    "\n",
    "class Tokenizer(object):\n",
    "    def __init__(self):\n",
    "        self.model = SentenceTransformer('all-MiniLM-L6-v2')\n",
    "\n",
    "    def get_token(self, documents):\n",
    "        sentences = [documents]\n",
    "        sentence_embeddings = self.model.encode(sentences)\n",
    "        encod_np_array = np.array(sentence_embeddings)\n",
    "        encod_list = encod_np_array.tolist()\n",
    "        return encod_list[0]\n",
    "    \n",
    "    def semantic_search(self, query_vector, document_vectors, documents, top_k=10):\n",
    "        # Compute cosine similarity between the query vector and document vectors\n",
    "        similarities = cosine_similarity(np.array([query_vector]), document_vectors).flatten()\n",
    "        # Sort the similarities in descending order and get the indices of top-k similar documents\n",
    "        top_indices = np.argsort(similarities)[::-1][:top_k]\n",
    "        # Retrieve the top-k similar documents\n",
    "        search_results = [documents[idx] for idx in top_indices]\n",
    "        return search_results\n"
   ]
  },
  {
   "cell_type": "code",
   "execution_count": 5,
   "id": "f83e83d8",
   "metadata": {},
   "outputs": [],
   "source": [
    "token_instance = Tokenizer()"
   ]
  },
  {
   "cell_type": "code",
   "execution_count": 6,
   "id": "bd17a33f",
   "metadata": {},
   "outputs": [],
   "source": [
    "df = df.head(5000)\n",
    "df = df.dropna(how='all')"
   ]
  },
  {
   "cell_type": "code",
   "execution_count": 12,
   "id": "3b045e54",
   "metadata": {},
   "outputs": [
    {
     "data": {
      "application/vnd.jupyter.widget-view+json": {
       "model_id": "269a58dd3541466f9901ed10338194eb",
       "version_major": 2,
       "version_minor": 0
      },
      "text/plain": [
       "Pandas Apply:   0%|          | 0/5000 [00:00<?, ?it/s]"
      ]
     },
     "metadata": {},
     "output_type": "display_data"
    }
   ],
   "source": [
    "df['vector'] = df['jobpost'].progress_apply(token_instance.get_token)"
   ]
  },
  {
   "cell_type": "code",
   "execution_count": 13,
   "id": "550a1896",
   "metadata": {},
   "outputs": [],
   "source": [
    "elk_data = df.to_dict(\"records\")"
   ]
  },
  {
   "cell_type": "code",
   "execution_count": 14,
   "id": "678fc2e3",
   "metadata": {},
   "outputs": [],
   "source": [
    "# Indexing data into a list of dictionaries\n",
    "indexed_data = []\n",
    "for x in elk_data:\n",
    "    data = {\n",
    "        \"title\": x.get(\"Title\", \"\"),\n",
    "        \"company\": x.get(\"Company\", \"\"),\n",
    "        \"location\": x.get(\"Location\", \"\"),\n",
    "        \"salary\": x.get(\"Salary\", \"\"),\n",
    "        \"vector\": x.get(\"vector\", \"\"),\n",
    "        \"job_description\": x.get(\"JobDescription\", \"\")\n",
    "    }\n",
    "    indexed_data.append(data)"
   ]
  },
  {
   "cell_type": "code",
   "execution_count": 15,
   "id": "a2650675",
   "metadata": {},
   "outputs": [
    {
     "name": "stdout",
     "output_type": "stream",
     "text": [
      "Enter the Input Query I am looking for jobs on python Developer with aws and elasticsearch skills\n"
     ]
    }
   ],
   "source": [
    "# Prompt for input query\n",
    "input_query = input(\"Enter the Input Query \")\n",
    "token_vector = token_instance.get_token(input_query)\n",
    "\n",
    "# Prepare document vectors\n",
    "document_vectors = [data[\"vector\"] for data in indexed_data]"
   ]
  },
  {
   "cell_type": "code",
   "execution_count": 21,
   "id": "1339ffcd",
   "metadata": {},
   "outputs": [
    {
     "name": "stdout",
     "output_type": "stream",
     "text": [
      "Search Query:  I am looking for jobs on python Developer with aws and elasticsearch skills\n",
      "Search Results:\n",
      "1. Software Engineer\n",
      "------------------------\n",
      "2. PHP/MySQL Software Engineer\n",
      "------------------------\n",
      "3. Python Developers\n",
      "------------------------\n",
      "4. Search Engine Optimization Specialists\n",
      "------------------------\n",
      "5. Search Engine Optimization Specialist\n",
      "------------------------\n",
      "6. Search Engine Optimization Specialists\n",
      "------------------------\n",
      "7. Software Engineer / Senior Software Engineer\n",
      "------------------------\n",
      "8. Head of Sales Department\n",
      "------------------------\n",
      "9. Web Developer\n",
      "------------------------\n",
      "10. Field Application Engineer\n",
      "------------------------\n",
      "------------------------\n",
      "Enter the index number to view details: 4\n",
      "------------------------\n",
      "Selected Entry Details:\n",
      "------------------------\n",
      "Title: Search Engine Optimization Specialists\n",
      "Company: LinkGard Systems, LLC\n",
      "Location: Yerevan, Armenia\n",
      "Salary: Competitive. Based on experience.\n",
      "Job Description: LinkGard Systems LLC is seeking ethical, energetic and\n",
      "highly motivated individuals to fill the position of SEO Specialist as\n",
      "part of the Search Engine Optimization Group. We have several openings\n",
      "and 2 shifts for students to fit their schedule:\n",
      "Morning shift:  8:00 a.m. - 2:00 p.m.\n",
      "Evening shift:  2:00 p.m. - 10:00 p.m.\n"
     ]
    }
   ],
   "source": [
    "# Vectorize the query token vector (replace with your own tokenization logic)\n",
    "query_vector = token_vector\n",
    "\n",
    "# Perform semantic search\n",
    "search_results = token_instance.semantic_search(query_vector, document_vectors, indexed_data)\n",
    "\n",
    "# Extract titles from search results\n",
    "titles = [entry[\"title\"] for entry in search_results]\n",
    "\n",
    "output = {\n",
    "    \"Query\": input_query,\n",
    "    \"Results\": titles\n",
    "}\n",
    "\n",
    "# Print the formatted output\n",
    "print(\"Search Query: \", output[\"Query\"])\n",
    "print(\"Search Results:\")\n",
    "for i, title in enumerate(output[\"Results\"]):\n",
    "    print(f\"{i + 1}. {title}\")\n",
    "    print(\"------------------------\")\n",
    "    \n",
    "\n",
    "print(\"------------------------\") \n",
    "# Prompt for the index selection\n",
    "index_selection = int(input(\"Enter the index number to view details: \")) - 1\n",
    "print(\"------------------------\")   \n",
    "# Check if the index selection is valid\n",
    "if index_selection < 0 or index_selection >= len(search_results):\n",
    "    print(\"Invalid index selection.\")\n",
    "else:\n",
    "    # Get the selected search result\n",
    "    selected_result = search_results[index_selection]\n",
    "\n",
    "    # Get the index of the selected result in the indexed_data list\n",
    "    selected_index = indexed_data.index(selected_result)\n",
    "\n",
    "    # Get the selected entry from indexed_data\n",
    "    selected_entry = indexed_data[selected_index]\n",
    "\n",
    "    # Print the details of the selected entry\n",
    "    print(\"Selected Entry Details:\")\n",
    "    print(\"------------------------\")\n",
    "    print(\"Title:\", selected_entry[\"title\"])\n",
    "    print(\"Company:\", selected_entry[\"company\"])\n",
    "    print(\"Location:\", selected_entry[\"location\"])\n",
    "    print(\"Salary:\", selected_entry[\"salary\"])\n",
    "    print(\"Job Description:\", selected_entry[\"job_description\"])"
   ]
  }
 ],
 "metadata": {
  "kernelspec": {
   "display_name": "Python 3 (ipykernel)",
   "language": "python",
   "name": "python3"
  },
  "language_info": {
   "codemirror_mode": {
    "name": "ipython",
    "version": 3
   },
   "file_extension": ".py",
   "mimetype": "text/x-python",
   "name": "python",
   "nbconvert_exporter": "python",
   "pygments_lexer": "ipython3",
   "version": "3.10.9"
  }
 },
 "nbformat": 4,
 "nbformat_minor": 5
}
